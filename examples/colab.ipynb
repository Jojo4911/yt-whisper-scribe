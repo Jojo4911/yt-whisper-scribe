{
  "cells": [
    {
      "cell_type": "markdown",
      "metadata": {},
      "source": [
        "# 🚀 YT-Whisper-Scribe — Configuration Colab Simplifiée\n",
        "\n",
        "Configuration ultra-simple avec intégration GitHub directe et gestion sécurisée des cookies.\n",
        "\n",
        "## ✅ Prérequis\n",
        "1. **Activez le GPU** : `Runtime` → `Change runtime type` → `Hardware accelerator: GPU`\n",
        "2. **Configuration automatique** : Exécutez la première cellule pour tout installer\n",
        "3. **Cookies YouTube (optionnel)** : Suivez les instructions pour les vidéos restreintes"
      ]
    },
    {
      "cell_type": "code",
      "execution_count": null,
      "metadata": {},
      "outputs": [],
      "source": [
        "# 🚀 CONFIGURATION AUTOMATIQUE - TOUT EN UNE CELLULE\n",
        "# Cette cellule configure automatiquement tout l'environnement\n",
        "\n",
        "import subprocess\n",
        "import os\n",
        "\n",
        "print(\"🔥 YT-WHISPER-SCRIBE - SETUP ULTRA-RAPIDE\")\n",
        "print(\"=\" * 50)\n",
        "\n",
        "# Téléchargement et exécution du setup avancé\n",
        "if not os.path.exists('/content/colab_setup.py'):\n",
        "    print(\"📥 Téléchargement du configurateur...\")\n",
        "    subprocess.run([\n",
        "        'wget', '-q', \n",
        "        'https://raw.githubusercontent.com/Jojo4911/yt-whisper-scribe/main/examples/colab_setup.py',\n",
        "        '-O', '/content/colab_setup.py'\n",
        "    ], check=True)\n",
        "\n",
        "# Import et exécution\n",
        "exec(open('/content/colab_setup.py').read())\n",
        "\n",
        "print(\"\\n🎉 CONFIGURATION TERMINÉE!\")\n",
        "print(\"📖 Utilisez maintenant: transcribe_video('URL_YOUTUBE')\")"
      ]
    },
    {
      "cell_type": "markdown",
      "metadata": {},
      "source": [
        "## 🎬 Transcription Simple\n",
        "\n",
        "Utilisez cette cellule pour transcription standard :"
      ]
    },
    {
      "cell_type": "code",
      "execution_count": null,
      "metadata": {},
      "outputs": [],
      "source": [
        "# 🎬 TRANSCRIPTION SIMPLE\n",
        "# Remplacez l'URL par celle de votre vidéo YouTube\n",
        "\n",
        "url = \"https://youtube.com/watch?v=VOTRE_VIDEO_ID\"\n",
        "\n",
        "# Transcription avec paramètres par défaut (SRT, modèle turbo, glossaire SWOOD)\n",
        "fichier_genere = transcribe_video(url)\n",
        "\n",
        "if fichier_genere:\n",
        "    print(f\"✅ Transcription terminée: {fichier_genere}\")\n",
        "else:\n",
        "    print(\"❌ Erreur de transcription\")"
      ]
    },
    {
      "cell_type": "markdown",
      "metadata": {},
      "source": [
        "## 🔧 Transcription Avancée\n",
        "\n",
        "Options personnalisées pour cas spécifiques :"
      ]
    },
    {
      "cell_type": "code",
      "execution_count": null,
      "metadata": {},
      "outputs": [],
      "source": [
        "# 🔧 TRANSCRIPTION AVANCÉE\n",
        "# Personnalisez selon vos besoins\n",
        "\n",
        "url = \"https://youtube.com/watch?v=VOTRE_VIDEO_ID\"\n",
        "\n",
        "fichier_genere = transcribe_video(\n",
        "    url=url,\n",
        "    model=\"medium\",              # tiny, base, small, medium, large, turbo\n",
        "    output_format=\"srt\",        # srt ou txt\n",
        "    language=\"en\",               # en, fr, auto\n",
        "    use_swood_glossary=True,     # Active les corrections SWOOD\n",
        "    device=\"auto\",               # auto, cuda, cpu\n",
        "    verbose=True                 # Affichage détaillé\n",
        ")\n",
        "\n",
        "print(f\"📁 Résultat: {fichier_genere}\")"
      ]
    },
    {
      "cell_type": "markdown",
      "metadata": {},
      "source": [
        "## 🍪 Gestion des Cookies YouTube\n",
        "\n",
        "Pour les vidéos privées/restreintes, configurez vos cookies :"
      ]
    },
    {
      "cell_type": "code",
      "execution_count": null,
      "metadata": {},
      "outputs": [],
      "source": [
        "# 🍪 MÉTHODE 1: NETTOYAGE INTERACTIF\n",
        "# 1. Uploadez votre fichier cookies.txt via l'interface Colab (icône dossier à gauche)\n",
        "# 2. Exécutez cette cellule pour le nettoyer automatiquement\n",
        "\n",
        "clean_cookies_interactive()"
      ]
    },
    {
      "cell_type": "code",
      "execution_count": null,
      "metadata": {},
      "outputs": [],
      "source": [
        "# 🍪 MÉTHODE 2: GOOGLE DRIVE (PERSISTANT)\n",
        "# Sauvegarde sécurisée dans votre Google Drive\n",
        "\n",
        "from google.colab import drive\n",
        "drive.mount('/content/drive')\n",
        "\n",
        "print(\"📁 Dossier privé créé: /content/drive/MyDrive/yt-whisper-private/\")\n",
        "print(\"💡 Copiez votre cookies_youtube.txt nettoyé dans ce dossier\")\n",
        "print(\"🔄 Puis relancez setup_colab_environment() pour détecter les cookies\")\n",
        "\n",
        "# Vérification manuelle\n",
        "import os\n",
        "private_path = \"/content/drive/MyDrive/yt-whisper-private/cookies_youtube.txt\"\n",
        "if os.path.exists(private_path):\n",
        "    print(f\"✅ Cookies détectés: {private_path}\")\n",
        "    os.environ['YT_COOKIES_FILE'] = private_path\n",
        "else:\n",
        "    print(\"⚠️  Cookies non trouvés dans le dossier privé\")"
      ]
    },
    {
      "cell_type": "markdown",
      "metadata": {},
      "source": [
        "## 🎯 Démonstration Interactive\n",
        "\n",
        "Test rapide avec entrée d'URL interactive :"
      ]
    },
    {
      "cell_type": "code",
      "execution_count": null,
      "metadata": {},
      "outputs": [],
      "source": [
        "# 🎯 DÉMONSTRATION INTERACTIVE\n",
        "# Mode interactif pour tester rapidement\n",
        "\n",
        "demo_transcribe()"
      ]
    },
    {
      "cell_type": "markdown",
      "metadata": {},
      "source": [
        "## 🔧 Dépannage et Utilitaires"
      ]
    },
    {
      "cell_type": "code",
      "execution_count": null,
      "metadata": {},
      "outputs": [],
      "source": [
        "# 🔍 INFORMATIONS SUR LE PROJET\n",
        "show_project_info()"
      ]
    },
    {
      "cell_type": "code",
      "execution_count": null,
      "metadata": {},
      "outputs": [],
      "source": [
        "# 🔄 RÉINSTALLATION COMPLÈTE (si problème)\n",
        "# Utiliser seulement en cas de problème\n",
        "\n",
        "setup_colab_environment(force_reinstall=True)"
      ]
    },
    {
      "cell_type": "code",
      "execution_count": null,
      "metadata": {},
      "outputs": [],
      "source": [
        "# 📁 LISTE DES FICHIERS GÉNÉRÉS\n",
        "# Voir tous vos fichiers de transcription\n",
        "\n",
        "import os\n",
        "from pathlib import Path\n",
        "\n",
        "data_dir = Path(\"/content/yt-whisper-scribe/data\")\n",
        "if data_dir.exists():\n",
        "    files = list(data_dir.glob(\"*\"))\n",
        "    print(f\"📁 {len(files)} fichier(s) dans data/:\")\n",
        "    for f in sorted(files, key=os.path.getmtime, reverse=True):\n",
        "        size = f.stat().st_size / 1024  # KB\n",
        "        print(f\"  📄 {f.name} ({size:.1f} KB)\")\n",
        "else:\n",
        "    print(\"📁 Dossier data/ non trouvé\")"
      ]
    },
    {
      "cell_type": "markdown",
      "metadata": {},
      "source": [
        "## 📖 Guide d'Utilisation Rapide\n",
        "\n",
        "### 🚀 Démarrage Ultra-Rapide\n",
        "1. Exécutez la **première cellule** pour configuration automatique\n",
        "2. Modifiez l'URL dans la cellule **Transcription Simple**\n",
        "3. Exécutez et attendez le résultat!\n",
        "\n",
        "### 🍪 Pour les Vidéos Restreintes\n",
        "1. Exportez vos cookies depuis votre navigateur (extension \"Get cookies.txt\")\n",
        "2. Utilisez `clean_cookies_interactive()` pour les nettoyer\n",
        "3. Sauvegardez dans Google Drive pour persistance\n",
        "\n",
        "### 🎛️ Options Principales\n",
        "- **model**: `\"tiny\"` (rapide) → `\"turbo\"` (équilibré) → `\"large\"` (précis)\n",
        "- **language**: `\"en\"`, `\"fr\"`, `\"auto\"` (détection automatique)\n",
        "- **output_format**: `\"srt\"` (sous-titres) ou `\"txt\"` (texte brut)\n",
        "- **use_swood_glossary**: `True` pour corrections métier automatiques\n",
        "\n",
        "### ⚡ Fonctions Utiles\n",
        "```python\n",
        "# Configuration initiale\n",
        "setup_colab_environment()\n",
        "\n",
        "# Transcription simple\n",
        "transcribe_video(\"https://youtube.com/watch?v=VIDEO_ID\")\n",
        "\n",
        "# Nettoyage cookies\n",
        "clean_cookies_interactive()\n",
        "\n",
        "# Test interactif\n",
        "demo_transcribe()\n",
        "```\n",
        "\n",
        "### 🔧 Résolution de Problèmes\n",
        "- **GPU non détecté**: Runtime → Change runtime type → GPU\n",
        "- **Vidéo inaccessible**: Configurez vos cookies YouTube\n",
        "- **Mémoire insuffisante**: Utilisez `model=\"base\"` ou `device=\"cpu\"`\n",
        "- **Erreur de clonage**: Vérifiez votre connexion réseau"
      ]
    }
  ],
  "metadata": {
    "colab": {
      "provenance": []
    },
    "kernelspec": {
      "display_name": "Python 3",
      "name": "python3"
    },
    "language_info": {
      "name": "python"
    },
    "accelerator": "GPU"
  },
  "nbformat": 4,
  "nbformat_minor": 0
}